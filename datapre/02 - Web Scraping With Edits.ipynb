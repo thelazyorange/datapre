{
 "cells": [
  {
   "cell_type": "markdown",
   "id": "a72f7caf",
   "metadata": {},
   "source": [
    "# Getting data directly from a website\n",
    "This notebook walks you through some steps in collecting data from [Bulbapedia's National Pokedex](https://bulbapedia.bulbagarden.net/wiki/List_of_Pok%C3%A9mon_by_National_Pok%C3%A9dex_number) using `requests` and `BeautifulSoup`"
   ]
  },
  {
   "cell_type": "markdown",
   "id": "1407b4c1",
   "metadata": {},
   "source": [
    "### Import `requests` library\n",
    "This package allows you to get any website's HTML code so that you can extract from it. Let's save the website's URL in the `URL` variable."
   ]
  },
  {
   "cell_type": "code",
   "execution_count": null,
   "id": "0756661e",
   "metadata": {},
   "outputs": [],
   "source": [
    "import requests\n",
    "import pandas as pd\n",
    "URL=\"https://bulbapedia.bulbagarden.net/wiki/List_of_Pok%C3%A9mon_by_National_Pok%C3%A9dex_number\""
   ]
  },
  {
   "cell_type": "markdown",
   "id": "263806a1",
   "metadata": {},
   "source": [
    "### Load the page"
   ]
  },
  {
   "cell_type": "code",
   "execution_count": null,
   "id": "8e2d83a3",
   "metadata": {},
   "outputs": [],
   "source": [
    "page=requests.get(URL)"
   ]
  },
  {
   "cell_type": "markdown",
   "id": "b6b732e7",
   "metadata": {},
   "source": [
    "### Parse HTML data"
   ]
  },
  {
   "cell_type": "code",
   "execution_count": null,
   "id": "bd1becf1",
   "metadata": {},
   "outputs": [],
   "source": [
    "from bs4 import BeautifulSoup\n",
    "\n",
    "soup = BeautifulSoup(page.content, 'html.parser')"
   ]
  },
  {
   "cell_type": "markdown",
   "id": "c8d8bd0d",
   "metadata": {},
   "source": [
    "### Find all tables that contain Pokemon details"
   ]
  },
  {
   "cell_type": "code",
   "execution_count": null,
   "id": "4b599c37",
   "metadata": {},
   "outputs": [],
   "source": [
    "# Get main content <div>\n",
    "poke_content=soup.find(id='mw-content-text')\n",
    "\n",
    "# Get all <table> elements\n",
    "poke_tables=poke_content.find_all('table')"
   ]
  },
  {
   "cell_type": "markdown",
   "id": "c6e6dae5",
   "metadata": {},
   "source": [
    "### Get list of First Generation Pokemons"
   ]
  },
  {
   "cell_type": "code",
   "execution_count": null,
   "id": "870c397a",
   "metadata": {},
   "outputs": [],
   "source": [
    "select_generation = 5\n",
    "gen1_list=poke_tables[select_generation]"
   ]
  },
  {
   "cell_type": "code",
   "execution_count": null,
   "id": "b8675153",
   "metadata": {},
   "outputs": [],
   "source": [
    "# Check its contents and find where the first Pokemon entry is\n",
    "# The first Pokemon entry\n",
    "gen1_list.contents[1]"
   ]
  },
  {
   "cell_type": "code",
   "execution_count": null,
   "id": "d65f0fca",
   "metadata": {
    "scrolled": true
   },
   "outputs": [],
   "source": [
    "# Study the structure\n",
    "for each in gen1_list.contents[1]:\n",
    "#     print(each)\n",
    "    print('##################################')"
   ]
  },
  {
   "cell_type": "code",
   "execution_count": null,
   "id": "ecc97484",
   "metadata": {},
   "outputs": [],
   "source": [
    "poke_info=gen1_list.contents[1]"
   ]
  },
  {
   "cell_type": "markdown",
   "id": "fec1a563",
   "metadata": {},
   "source": [
    "# Strategy 1 - Tuple loops + Dataframe conversion + Saving to Json: "
   ]
  },
  {
   "cell_type": "code",
   "execution_count": null,
   "id": "d50295ce",
   "metadata": {},
   "outputs": [],
   "source": [
    "extracted_poke_info = []\n",
    "info_start = 1\n",
    "# place where to get the pokemon info\n",
    "info_row=gen1_list.contents[info_start]\n",
    "\n",
    "for pokemon_info_values, even_index_chec in zip(info_row.contents, range(0,len(info_row.contents))):\n",
    "    # Pokemons' values are stored in even index (divisible by 2 and is not 0)\n",
    "    if ((even_index_chec % 2) == 0) & (even_index_chec != 0) :\n",
    "        pokemon_raw_info = pokemon_info_values.text.strip().split('\\n')\n",
    "\n",
    "        \n",
    "## Pokemons that are other regional forms and has 1 type\n",
    "        if len(pokemon_raw_info) == 7:\n",
    "            kdex = pokemon_raw_info[0]\n",
    "            ndex = pokemon_raw_info[1]\n",
    "            poke_name = pokemon_raw_info[4]\n",
    "            type1 = pokemon_raw_info[6]\n",
    "            type2 = ''\n",
    "            categ = 'Other Form Single Type'\n",
    "#             print(kdex,ndex,poke_name, type1,type2)\n",
    "#             print(pokemon_info_values.text.strip().split('\\n'))\n",
    "#             print('####')\n",
    "\n",
    "## Pokemons that are other regional forms and has 2 types\n",
    "        elif len(pokemon_raw_info) == 8:\n",
    "            kdex = pokemon_raw_info[0]\n",
    "            ndex = pokemon_raw_info[1]\n",
    "            poke_name = pokemon_raw_info[4]\n",
    "            type1 = pokemon_raw_info[6]\n",
    "            type2 = pokemon_raw_info[7]\n",
    "            categ = 'Other Form Multi Type'\n",
    "#             print(kdex,ndex,poke_name, type1,type2)\n",
    "#             print(pokemon_info_values.text.strip().split('\\n'))\n",
    "#             print('####')\n",
    "\n",
    "## Orig pokemon list with single typing\n",
    "        elif len(pokemon_raw_info) == 9:\n",
    "            kdex = pokemon_raw_info[0]\n",
    "            ndex = pokemon_raw_info[2]\n",
    "            poke_name = pokemon_raw_info[6]\n",
    "            type1 = pokemon_raw_info[8]\n",
    "            type2 = ''\n",
    "            categ = 'Orig Form Single Type'\n",
    "#             print(kdex,ndex,poke_name, type1,type2)\n",
    "#             print(pokemon_info_values.text.strip().split('\\n'))\n",
    "#             print('####')\n",
    "\n",
    "\n",
    "# Orig pokemon list with multiple typing\n",
    "        elif len(pokemon_raw_info) == 10:\n",
    "            kdex = pokemon_raw_info[0]\n",
    "            ndex = pokemon_raw_info[2]\n",
    "            poke_name = pokemon_raw_info[6]\n",
    "            type1 = pokemon_raw_info[8]\n",
    "            type2 = pokemon_raw_info[9]\n",
    "            categ = 'Orig Form Multi Type'\n",
    "#             print(kdex,ndex,poke_name, type1,type2)\n",
    "#             print(pokemon_info_values.text.strip().split('\\n'))\n",
    "#             print('####')\n",
    "\n",
    "        else:\n",
    "            print('Check out elements containing ' + str(len(pokemon_raw_info)) + ' elements')\n",
    "        \n",
    "        # Saving as a tuple\n",
    "        extracted_poke_info.append((kdex, ndex, poke_name, type1, type2, categ))\n",
    "        \n",
    "    \n",
    "    else:\n",
    "        pass\n",
    "#         print(pokemon_info_values)"
   ]
  },
  {
   "cell_type": "code",
   "execution_count": null,
   "id": "f654f7d6",
   "metadata": {},
   "outputs": [],
   "source": [
    "df_pokemon_list = pd.DataFrame(extracted_poke_info)"
   ]
  },
  {
   "cell_type": "code",
   "execution_count": null,
   "id": "8ae835c2",
   "metadata": {},
   "outputs": [],
   "source": [
    "df_pokemon_list.columns = ['Kdex', 'Ndex', 'Pokemon', 'Type 1', 'Type 2', 'Category']"
   ]
  },
  {
   "cell_type": "code",
   "execution_count": null,
   "id": "118a36d5",
   "metadata": {},
   "outputs": [],
   "source": [
    "df_pokemon_list.to_json('Extracted Pokemon List Json.json',orient='index')"
   ]
  },
  {
   "cell_type": "markdown",
   "id": "552e894f",
   "metadata": {},
   "source": [
    "# Strategy 2 Json Conversion per Loop:"
   ]
  },
  {
   "cell_type": "code",
   "execution_count": null,
   "id": "079c36a8",
   "metadata": {},
   "outputs": [],
   "source": [
    "gen1_json = []\n",
    "\n",
    "info_start = 1\n",
    "# place where to get the pokemon info\n",
    "info_row=gen1_list.contents[info_start]\n",
    "\n",
    "for pokemon_info_values, even_index_chec in zip(info_row.contents, range(0,len(info_row.contents))):\n",
    "    # Pokemons' values are stored in even index (divisible by 2 and is not 0)\n",
    "    if ((even_index_chec % 2) == 0) & (even_index_chec != 0) :\n",
    "        pokemon_raw_info = pokemon_info_values.text.strip().split('\\n')\n",
    "\n",
    "        \n",
    "## Pokemons that are other regional forms and has 1 type\n",
    "        if len(pokemon_raw_info) == 7:\n",
    "            kdex = pokemon_raw_info[0]\n",
    "            ndex = pokemon_raw_info[1]\n",
    "            poke_name = pokemon_raw_info[4]\n",
    "            type1 = pokemon_raw_info[6]\n",
    "            type2 = ''\n",
    "            categ = 'Other Form Single Type'\n",
    "#             print(kdex,ndex,poke_name, type1,type2)\n",
    "#             print(pokemon_info_values.text.strip().split('\\n'))\n",
    "#             print('####')\n",
    "\n",
    "## Pokemons that are other regional forms and has 2 types\n",
    "        elif len(pokemon_raw_info) == 8:\n",
    "            kdex = pokemon_raw_info[0]\n",
    "            ndex = pokemon_raw_info[1]\n",
    "            poke_name = pokemon_raw_info[4]\n",
    "            type1 = pokemon_raw_info[6]\n",
    "            type2 = pokemon_raw_info[7]\n",
    "            categ = 'Other Form Multi Type'\n",
    "#             print(kdex,ndex,poke_name, type1,type2)\n",
    "#             print(pokemon_info_values.text.strip().split('\\n'))\n",
    "#             print('####')\n",
    "\n",
    "## Orig pokemon list with single typing\n",
    "        elif len(pokemon_raw_info) == 9:\n",
    "            kdex = pokemon_raw_info[0]\n",
    "            ndex = pokemon_raw_info[2]\n",
    "            poke_name = pokemon_raw_info[6]\n",
    "            type1 = pokemon_raw_info[8]\n",
    "            type2 = ''\n",
    "            categ = 'Orig Form Single Type'\n",
    "#             print(kdex,ndex,poke_name, type1,type2)\n",
    "#             print(pokemon_info_values.text.strip().split('\\n'))\n",
    "#             print('####')\n",
    "\n",
    "\n",
    "# Orig pokemon list with multiple typing\n",
    "        elif len(pokemon_raw_info) == 10:\n",
    "            kdex = pokemon_raw_info[0]\n",
    "            ndex = pokemon_raw_info[2]\n",
    "            poke_name = pokemon_raw_info[6]\n",
    "            type1 = pokemon_raw_info[8]\n",
    "            type2 = pokemon_raw_info[9]\n",
    "            categ = 'Orig Form Multi Type'\n",
    "#             print(kdex,ndex,poke_name, type1,type2)\n",
    "#             print(pokemon_info_values.text.strip().split('\\n'))\n",
    "#             print('####')\n",
    "\n",
    "        else:\n",
    "            print('Check out elements containing ' + str(len(pokemon_raw_info)) + ' elements')\n",
    "        \n",
    "        # Saving as a tuple\n",
    "        gen1_json.append({\"kdex\" : kdex,\n",
    "                          \"ndex\" : ndex,\n",
    "                          \"poke_name\" : poke_name,\n",
    "                          \"type1\" : type1,\n",
    "                          \"type2\" : type2,\n",
    "                          \"category\" : categ})\n",
    "        \n",
    "#         gen1_json.append({\n",
    "#             \"kdex\": kdex,\n",
    "#             \"ndex\": ndex,\n",
    "#             \"name\": name,\n",
    "#             \"type1\": type1,\n",
    "#             \"type2\": type2\n",
    "#         })\n",
    "        "
   ]
  },
  {
   "cell_type": "code",
   "execution_count": null,
   "id": "971ac2d9",
   "metadata": {},
   "outputs": [],
   "source": [
    "gen1_json"
   ]
  }
 ],
 "metadata": {
  "kernelspec": {
   "display_name": "Python 3",
   "language": "python",
   "name": "python3"
  },
  "language_info": {
   "codemirror_mode": {
    "name": "ipython",
    "version": 3
   },
   "file_extension": ".py",
   "mimetype": "text/x-python",
   "name": "python",
   "nbconvert_exporter": "python",
   "pygments_lexer": "ipython3",
   "version": "3.9.5"
  },
  "toc": {
   "base_numbering": 1,
   "nav_menu": {},
   "number_sections": true,
   "sideBar": true,
   "skip_h1_title": false,
   "title_cell": "Table of Contents",
   "title_sidebar": "Contents",
   "toc_cell": false,
   "toc_position": {},
   "toc_section_display": true,
   "toc_window_display": false
  }
 },
 "nbformat": 4,
 "nbformat_minor": 5
}
