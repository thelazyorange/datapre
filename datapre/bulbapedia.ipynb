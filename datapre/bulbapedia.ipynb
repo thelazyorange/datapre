{
 "cells": [
  {
   "cell_type": "code",
   "execution_count": 2,
   "id": "0756661e",
   "metadata": {},
   "outputs": [],
   "source": [
    "import requests\n",
    "import pandas as pd\n",
    "URL=\"https://bulbapedia.bulbagarden.net/wiki/List_of_Pok%C3%A9mon_by_National_Pok%C3%A9dex_number\""
   ]
  },
  {
   "cell_type": "markdown",
   "id": "263806a1",
   "metadata": {},
   "source": [
    "### Load the page"
   ]
  },
  {
   "cell_type": "code",
   "execution_count": 3,
   "id": "8e2d83a3",
   "metadata": {},
   "outputs": [],
   "source": [
    "page=requests.get(URL)"
   ]
  },
  {
   "cell_type": "markdown",
   "id": "b6b732e7",
   "metadata": {},
   "source": [
    "### Parse HTML data"
   ]
  },
  {
   "cell_type": "code",
   "execution_count": 4,
   "id": "bd1becf1",
   "metadata": {},
   "outputs": [],
   "source": [
    "from bs4 import BeautifulSoup\n",
    "\n",
    "soup = BeautifulSoup(page.content, 'html.parser')"
   ]
  },
  {
   "cell_type": "markdown",
   "id": "c8d8bd0d",
   "metadata": {},
   "source": [
    "### Find all tables that contain Pokemon details"
   ]
  },
  {
   "cell_type": "code",
   "execution_count": 5,
   "id": "4b599c37",
   "metadata": {},
   "outputs": [],
   "source": [
    "# Get main content <div>\n",
    "poke_content=soup.find(id='mw-content-text')\n",
    "\n",
    "# Get all <table> elements\n",
    "poke_tables=poke_content.find_all('table')"
   ]
  },
  {
   "cell_type": "markdown",
   "id": "fec1a563",
   "metadata": {},
   "source": [
    "# Strategy 1 - Tuple loops + Dataframe conversion + Saving to Json: "
   ]
  },
  {
   "cell_type": "code",
   "execution_count": 11,
   "id": "d50295ce",
   "metadata": {},
   "outputs": [],
   "source": [
    "extracted_poke_info = []\n",
    "# place where to get the pokemon info\n",
    "\n",
    "for x in range(2,9):\n",
    "    gen1_list=poke_tables[x]\n",
    "    info_row=gen1_list.contents[1]\n",
    "\n",
    "    for pokemon_info_values, even_index_chec in zip(info_row.contents, range(0,len(info_row.contents))):\n",
    "        # Pokemons' values are stored in even index (divisible by 2 and is not 0)\n",
    "        if ((even_index_chec % 2) == 0) & (even_index_chec != 0) :\n",
    "            pokemon_raw_info = pokemon_info_values.text.strip().split('\\n')\n",
    "            pokemon_link = \"https://bulbapedia.bulbagarden.net\" + pokemon_info_values.find('a').get('href')\n",
    "\n",
    "\n",
    "    ## Pokemons that are other regional forms and has 1 type\n",
    "            if len(pokemon_raw_info) == 7:\n",
    "                kdex = pokemon_raw_info[0]\n",
    "                ndex = pokemon_raw_info[1]\n",
    "                poke_name = pokemon_raw_info[4]\n",
    "                type1 = pokemon_raw_info[6]\n",
    "                type2 = ''\n",
    "                link = pokemon_link\n",
    "    #             print(kdex,ndex,poke_name, type1,type2)\n",
    "    #             print(pokemon_info_values.text.strip().split('\\n'))\n",
    "    #             print('####')\n",
    "\n",
    "    ## Pokemons that are other regional forms and has 2 types\n",
    "            elif len(pokemon_raw_info) == 8:\n",
    "                kdex = pokemon_raw_info[0]\n",
    "                ndex = pokemon_raw_info[1]\n",
    "                poke_name = pokemon_raw_info[4]\n",
    "                type1 = pokemon_raw_info[6]\n",
    "                type2 = pokemon_raw_info[7]\n",
    "                link = pokemon_link\n",
    "    #             print(kdex,ndex,poke_name, type1,type2)\n",
    "    #             print(pokemon_info_values.text.strip().split('\\n'))\n",
    "    #             print('####')\n",
    "\n",
    "    ## Orig pokemon list with single typing\n",
    "            elif len(pokemon_raw_info) == 9:\n",
    "                kdex = pokemon_raw_info[0]\n",
    "                ndex = pokemon_raw_info[2]\n",
    "                poke_name = pokemon_raw_info[6]\n",
    "                type1 = pokemon_raw_info[8]\n",
    "                type2 = ''\n",
    "                link = pokemon_link\n",
    "    #             print(kdex,ndex,poke_name, type1,type2)\n",
    "    #             print(pokemon_info_values.text.strip().split('\\n'))\n",
    "    #             print('####')\n",
    "\n",
    "\n",
    "    # Orig pokemon list with multiple typing\n",
    "            elif len(pokemon_raw_info) == 10:\n",
    "                kdex = pokemon_raw_info[0]\n",
    "                ndex = pokemon_raw_info[2]\n",
    "                poke_name = pokemon_raw_info[6]\n",
    "                type1 = pokemon_raw_info[8]\n",
    "                type2 = pokemon_raw_info[9]\n",
    "                link = pokemon_link\n",
    "    #             print(kdex,ndex,poke_name, type1,type2)\n",
    "    #             print(pokemon_info_values.text.strip().split('\\n'))\n",
    "    #             print('####')\n",
    "\n",
    "            else:\n",
    "                print('Check out elements containing ' + str(len(pokemon_raw_info)) + ' elements')\n",
    "        \n",
    "            # Saving as a tuple\n",
    "            extracted_poke_info.append((kdex, ndex, poke_name, type1, type2, link))\n",
    "        \n",
    "    \n",
    "    else:\n",
    "        pass\n",
    "#         print(pokemon_info_values)"
   ]
  },
  {
   "cell_type": "code",
   "execution_count": 12,
   "id": "f654f7d6",
   "metadata": {},
   "outputs": [],
   "source": [
    "df_pokemon_list = pd.DataFrame(extracted_poke_info)"
   ]
  },
  {
   "cell_type": "code",
   "execution_count": 13,
   "id": "8ae835c2",
   "metadata": {},
   "outputs": [],
   "source": [
    "df_pokemon_list.columns = ['Kdex', 'Ndex', 'Pokemon', 'Type 1', 'Type 2', 'Link']"
   ]
  },
  {
   "cell_type": "code",
   "execution_count": 14,
   "id": "118a36d5",
   "metadata": {},
   "outputs": [],
   "source": [
    "df_pokemon_list.to_json('Extracted Pokemon List Json.json',orient='index')"
   ]
  }
 ],
 "metadata": {
  "kernelspec": {
   "display_name": "Python 3 (ipykernel)",
   "language": "python",
   "name": "python3"
  },
  "language_info": {
   "codemirror_mode": {
    "name": "ipython",
    "version": 3
   },
   "file_extension": ".py",
   "mimetype": "text/x-python",
   "name": "python",
   "nbconvert_exporter": "python",
   "pygments_lexer": "ipython3",
   "version": "3.9.7"
  },
  "toc": {
   "base_numbering": 1,
   "nav_menu": {},
   "number_sections": true,
   "sideBar": true,
   "skip_h1_title": false,
   "title_cell": "Table of Contents",
   "title_sidebar": "Contents",
   "toc_cell": false,
   "toc_position": {},
   "toc_section_display": true,
   "toc_window_display": false
  }
 },
 "nbformat": 4,
 "nbformat_minor": 5
}
