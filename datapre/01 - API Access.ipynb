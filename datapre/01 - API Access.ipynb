{
 "cells": [
  {
   "cell_type": "markdown",
   "id": "d97ff68b",
   "metadata": {},
   "source": [
    "# Getting data from an API\n",
    "This notebook walks you through some steps in collecting data from Reddit using the Pushshift.io API.\n",
    "\n",
    "We will use the **Python Pushshift.io API Wrapper (PSAW)** which is documented here -> https://psaw.readthedocs.io/en/latest/"
   ]
  },
  {
   "cell_type": "markdown",
   "id": "eb56162a",
   "metadata": {},
   "source": [
    "### Import package\n",
    "This wrapper package allows the searching of public submissions and comments."
   ]
  },
  {
   "cell_type": "code",
   "execution_count": null,
   "id": "ce550e39",
   "metadata": {},
   "outputs": [],
   "source": [
    "from psaw import PushshiftAPI\n",
    "import pandas as pd\n",
    "\n",
    "api = PushshiftAPI()"
   ]
  },
  {
   "cell_type": "markdown",
   "id": "8e2634b5",
   "metadata": {},
   "source": [
    "### Get the 5 most recent posts in all of Reddit"
   ]
  },
  {
   "cell_type": "code",
   "execution_count": null,
   "id": "74217052",
   "metadata": {},
   "outputs": [],
   "source": [
    "posts = api.search_submissions(limit=5, filter=['full_link','author', 'title', 'subreddit', 'created_utc'])\n",
    "results = list(posts)"
   ]
  },
  {
   "cell_type": "markdown",
   "id": "e3a6965e-0fe8-473e-8910-a160bc0ae5fb",
   "metadata": {},
   "source": [
    "How do you get the first element?"
   ]
  },
  {
   "cell_type": "code",
   "execution_count": null,
   "id": "d284f8ae",
   "metadata": {},
   "outputs": [],
   "source": [
    "# your code here"
   ]
  },
  {
   "cell_type": "markdown",
   "id": "51833fcc-7a4f-4eaf-aeac-3c0f942d64fa",
   "metadata": {},
   "source": [
    "Check if you actually got only 5 results."
   ]
  },
  {
   "cell_type": "code",
   "execution_count": null,
   "id": "1300bc99-7409-4b8b-bd95-b345bf0824d0",
   "metadata": {},
   "outputs": [],
   "source": [
    "# your code here"
   ]
  },
  {
   "cell_type": "markdown",
   "id": "4f8b887f",
   "metadata": {},
   "source": [
    "### Get the most recent post from r/philippines"
   ]
  },
  {
   "cell_type": "code",
   "execution_count": null,
   "id": "27368d90",
   "metadata": {},
   "outputs": [],
   "source": [
    "posts = api.search_submissions(limit=5, subreddit=\"philippines\", filter=['full_link','author', 'title', 'subreddit', 'created_utc'])\n",
    "posts_df = pd.DataFrame([thing.d_ for thing in posts])"
   ]
  },
  {
   "cell_type": "markdown",
   "id": "c621a577-416c-4ab0-a766-b21751079d24",
   "metadata": {},
   "source": [
    "Display the `DataFrame`"
   ]
  },
  {
   "cell_type": "code",
   "execution_count": null,
   "id": "12a06c53",
   "metadata": {},
   "outputs": [],
   "source": [
    "# your code here"
   ]
  },
  {
   "cell_type": "markdown",
   "id": "ff19a53a-7f7a-46a4-8257-a7a638057211",
   "metadata": {},
   "source": [
    "Retrieve the `full_link`  from the first item"
   ]
  },
  {
   "cell_type": "code",
   "execution_count": null,
   "id": "418e269c",
   "metadata": {},
   "outputs": [],
   "source": [
    "# your code here"
   ]
  },
  {
   "cell_type": "markdown",
   "id": "63583fb4",
   "metadata": {},
   "source": [
    "### Get posts from March 11 in r/philippines"
   ]
  },
  {
   "cell_type": "code",
   "execution_count": null,
   "id": "94662865",
   "metadata": {},
   "outputs": [],
   "source": [
    "import datetime as dt\n",
    "\n",
    "sub=\"philippines\"\n",
    "start=\"2021-03-11\"\n",
    "\n",
    "start_date=pd.to_datetime(start)\n",
    "\n",
    "start_epoch=int(start_date.timestamp())\n",
    "\n",
    "posts = api.search_submissions(limit=10, \n",
    "                               subreddit=sub, \n",
    "                               before=start_epoch,\n",
    "                               filter=['full_link','author', 'title', 'subreddit', 'created_utc'])\n",
    "posts_df = pd.DataFrame([thing.d_ for thing in posts])"
   ]
  },
  {
   "cell_type": "code",
   "execution_count": null,
   "id": "efdaba9b",
   "metadata": {},
   "outputs": [],
   "source": [
    "# Display the dataframe"
   ]
  },
  {
   "cell_type": "markdown",
   "id": "2d3f8506-5d84-475b-972a-918b58d439da",
   "metadata": {},
   "source": [
    "## Challenge \n",
    "\n",
    "Let's put this in a loop to get the first 20 posts for every day of a month."
   ]
  },
  {
   "cell_type": "code",
   "execution_count": null,
   "id": "ace6015d-e294-4cc0-a782-a14a70509146",
   "metadata": {},
   "outputs": [],
   "source": []
  }
 ],
 "metadata": {
  "kernelspec": {
   "display_name": "Python 3",
   "language": "python",
   "name": "python3"
  },
  "language_info": {
   "codemirror_mode": {
    "name": "ipython",
    "version": 3
   },
   "file_extension": ".py",
   "mimetype": "text/x-python",
   "name": "python",
   "nbconvert_exporter": "python",
   "pygments_lexer": "ipython3",
   "version": "3.9.5"
  },
  "toc": {
   "base_numbering": 1,
   "nav_menu": {},
   "number_sections": true,
   "sideBar": true,
   "skip_h1_title": false,
   "title_cell": "Table of Contents",
   "title_sidebar": "Contents",
   "toc_cell": false,
   "toc_position": {},
   "toc_section_display": true,
   "toc_window_display": false
  }
 },
 "nbformat": 4,
 "nbformat_minor": 5
}
